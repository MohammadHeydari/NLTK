{
 "cells": [
  {
   "cell_type": "markdown",
   "metadata": {},
   "source": [
    "# Text PreProcessing"
   ]
  },
  {
   "cell_type": "code",
   "execution_count": 75,
   "metadata": {},
   "outputs": [
    {
     "name": "stdout",
     "output_type": "stream",
     "text": [
      "Collecting textblob\n",
      "\u001b[?25l  Downloading https://files.pythonhosted.org/packages/60/f0/1d9bfcc8ee6b83472ec571406bd0dd51c0e6330ff1a51b2d29861d389e85/textblob-0.15.3-py2.py3-none-any.whl (636kB)\n",
      "\u001b[K    100% |████████████████████████████████| 645kB 742kB/s ta 0:00:01\n",
      "\u001b[?25hRequirement already satisfied, skipping upgrade: nltk>=3.1 in /home/code/anaconda3/lib/python3.7/site-packages (from textblob) (3.4)\n",
      "Requirement already satisfied, skipping upgrade: six in /home/code/anaconda3/lib/python3.7/site-packages (from nltk>=3.1->textblob) (1.12.0)\n",
      "Requirement already satisfied, skipping upgrade: singledispatch in /home/code/anaconda3/lib/python3.7/site-packages (from nltk>=3.1->textblob) (3.4.0.3)\n",
      "Installing collected packages: textblob\n",
      "Successfully installed textblob-0.15.3\n",
      "Note: you may need to restart the kernel to use updated packages.\n"
     ]
    }
   ],
   "source": [
    "pip install -U textblob"
   ]
  },
  {
   "cell_type": "code",
   "execution_count": 79,
   "metadata": {},
   "outputs": [
    {
     "name": "stderr",
     "output_type": "stream",
     "text": [
      "[nltk_data] Downloading package punkt to /home/code/nltk_data...\n",
      "[nltk_data]   Package punkt is already up-to-date!\n",
      "[nltk_data] Downloading package wordnet to /home/code/nltk_data...\n",
      "[nltk_data]   Package wordnet is already up-to-date!\n",
      "[nltk_data] Downloading package averaged_perceptron_tagger to\n",
      "[nltk_data]     /home/code/nltk_data...\n",
      "[nltk_data]   Unzipping taggers/averaged_perceptron_tagger.zip.\n"
     ]
    },
    {
     "data": {
      "text/plain": [
       "True"
      ]
     },
     "execution_count": 79,
     "metadata": {},
     "output_type": "execute_result"
    }
   ],
   "source": [
    "import nltk\n",
    "nltk.download('punkt')\n",
    "nltk.download('wordnet')\n",
    "nltk.download('averaged_perceptron_tagger')"
   ]
  },
  {
   "cell_type": "code",
   "execution_count": 2,
   "metadata": {},
   "outputs": [
    {
     "data": {
      "text/plain": [
       "'The research by the information visualization community shows clearly that using a visual representation of data-sets enables faster analysis by the end users'"
      ]
     },
     "execution_count": 2,
     "metadata": {},
     "output_type": "execute_result"
    }
   ],
   "source": [
    "text = 'The research by the information visualization community shows clearly that using a visual representation of data-sets enables faster analysis by the end users'\n",
    "text.lower()\n",
    "text"
   ]
  },
  {
   "cell_type": "code",
   "execution_count": 11,
   "metadata": {},
   "outputs": [
    {
     "name": "stdout",
     "output_type": "stream",
     "text": [
      "The research by the information visualization community which are more than  people\n"
     ]
    }
   ],
   "source": [
    "import re\n",
    "text = 'The research by the information visualization community which are more than 10000 people'\n",
    "after = re.sub(r'\\d+', '', text)\n",
    "print(after)\n"
   ]
  },
  {
   "cell_type": "code",
   "execution_count": null,
   "metadata": {},
   "outputs": [],
   "source": [
    "'''import string\n",
    "text = 'The research!!! by the information visualization community which are more than 10000 people...???'\n",
    "pre = text.translate(str.maketrans(','), string.punctuation)\n",
    "print(pre)'''"
   ]
  },
  {
   "cell_type": "code",
   "execution_count": 28,
   "metadata": {},
   "outputs": [
    {
     "name": "stdout",
     "output_type": "stream",
     "text": [
      "\t \t The research!!! by the information visualization community \t\n"
     ]
    }
   ],
   "source": [
    "text = '\\t \\t The research!!! by the information visualization community \\t'\n",
    "text.strip()\n",
    "print(text)"
   ]
  },
  {
   "cell_type": "code",
   "execution_count": 50,
   "metadata": {},
   "outputs": [
    {
     "name": "stdout",
     "output_type": "stream",
     "text": [
      "Word Tokenize : \n",
      "['Neuro-linguistic', 'programming', '(', 'NLP', ')', 'is', 'a', 'psychological', 'approach', 'that', 'involves', 'analyzing', 'strategies', 'used', 'by', 'successful', 'individuals', 'and', 'applying', 'them', 'to', 'reach', 'a', 'personal', 'goal', '.', 'It', 'relates', 'thoughts', ',', 'language', ',', 'and', 'patterns', 'of', 'behavior', 'learned', 'through', 'experience', 'to', 'specific', 'outcomes', '.', 'Proponents', 'of', 'NLP', 'assume', 'all', 'human', 'action', 'is', 'positive', '.', 'Therefore', ',', 'if', 'a', 'plan', 'fails', 'or', 'the', 'unexpected', 'happens', ',', 'the', 'experience', 'is', 'neither', 'good', 'nor', 'bad—it', 'simply', 'presents', 'more', 'useful', 'information', '.']\n",
      "---------------------------------------------------------------------------------\n",
      "Sent Tokenize :\n",
      "['Neuro-linguistic programming (NLP) is a psychological approach that involves analyzing strategies used by successful individuals and applying them to reach a personal goal.', 'It relates thoughts, language, and patterns of behavior learned through experience to specific outcomes.', 'Proponents of NLP assume all human action is positive.', 'Therefore, if a plan fails or the unexpected happens, the experience is neither good nor bad—it simply presents more useful information.']\n"
     ]
    }
   ],
   "source": [
    "from nltk.tokenize import word_tokenize, sent_tokenize\n",
    "\n",
    "text = 'Neuro-linguistic programming (NLP) is a psychological approach that involves analyzing strategies used by successful individuals and applying them to reach a personal goal. It relates thoughts, language, and patterns of behavior learned through experience to specific outcomes. Proponents of NLP assume all human action is positive. Therefore, if a plan fails or the unexpected happens, the experience is neither good nor bad—it simply presents more useful information.'\n",
    "\n",
    "print('Word Tokenize : ')\n",
    "print(word_tokenize(text))\n",
    "print('---------------------------------------------------------------------------------')\n",
    "print('Sent Tokenize :')\n",
    "print(sent_tokenize(text))"
   ]
  },
  {
   "cell_type": "code",
   "execution_count": 60,
   "metadata": {},
   "outputs": [
    {
     "name": "stdout",
     "output_type": "stream",
     "text": [
      "it\n",
      "simpli\n",
      "present\n",
      "more\n",
      "use\n",
      "inform\n",
      ".\n"
     ]
    }
   ],
   "source": [
    "from nltk.stem import PorterStemmer\n",
    "stemmer = PorterStemmer()\n",
    "text = 'it simply presents more useful information.'\n",
    "text = word_tokenize(text)\n",
    "for word in text:\n",
    "    print(stemmer.stem(word))"
   ]
  },
  {
   "cell_type": "code",
   "execution_count": 65,
   "metadata": {},
   "outputs": [
    {
     "name": "stdout",
     "output_type": "stream",
     "text": [
      "it  :  it\n",
      "simply  :  simpli\n",
      "presents  :  present\n",
      "more  :  more\n",
      "useful  :  use\n",
      "information  :  inform\n",
      ".  :  .\n"
     ]
    }
   ],
   "source": [
    "from nltk.stem import PorterStemmer\n",
    "from nltk.tokenize import word_tokenize\n",
    "\n",
    "stemmer = PorterStemmer()\n",
    "\n",
    "text = 'it simply presents more useful information.'\n",
    "words = word_tokenize(text)\n",
    "\n",
    "for string in words:\n",
    "    print(string, \" : \", stemmer.stem(string))"
   ]
  },
  {
   "cell_type": "markdown",
   "metadata": {},
   "source": [
    "# Lemmatizing"
   ]
  },
  {
   "cell_type": "code",
   "execution_count": 82,
   "metadata": {},
   "outputs": [
    {
     "name": "stdout",
     "output_type": "stream",
     "text": [
      "Ending\n",
      "this\n",
      "obvious\n",
      "discussion\n",
      "would\n",
      "be\n",
      "necessary\n",
      "at\n",
      "these\n",
      "moment\n"
     ]
    }
   ],
   "source": [
    "from nltk.stem import WordNetLemmatizer\n",
    "from nltk.tokenize import word_tokenize\n",
    "\n",
    "lemm = WordNetLemmatizer()\n",
    "\n",
    "text = 'Ending this obvious discussion would be necessary at these moments'\n",
    "text = word_tokenize(text)\n",
    "\n",
    "for word in text:\n",
    "    print(lemm.lemmatize(word))"
   ]
  },
  {
   "cell_type": "markdown",
   "metadata": {},
   "source": [
    "# POS Tagging"
   ]
  },
  {
   "cell_type": "code",
   "execution_count": 85,
   "metadata": {},
   "outputs": [
    {
     "name": "stdout",
     "output_type": "stream",
     "text": [
      "[('Ending', 'VBG'), ('this', 'DT'), ('obvious', 'JJ'), ('discussion', 'NN'), ('would', 'MD'), ('be', 'VB'), ('necessary', 'JJ'), ('at', 'IN'), ('these', 'DT'), ('moments', 'NNS'), ('at', 'IN'), ('the', 'DT'), ('Institute', 'NNP')]\n"
     ]
    }
   ],
   "source": [
    "from textblob import TextBlob\n",
    "\n",
    "text = 'Ending this obvious discussion would be necessary at these moments at the Institute'\n",
    "pre = TextBlob(text)\n",
    "\n",
    "print(pre.tags)"
   ]
  },
  {
   "cell_type": "markdown",
   "metadata": {},
   "source": [
    "# Chunking"
   ]
  },
  {
   "cell_type": "code",
   "execution_count": 87,
   "metadata": {},
   "outputs": [
    {
     "name": "stdout",
     "output_type": "stream",
     "text": [
      "[('Ending', 'VBG'), ('this', 'DT'), ('obvious', 'JJ'), ('discussion', 'NN'), ('would', 'MD'), ('be', 'VB'), ('necessary', 'JJ'), ('at', 'IN'), ('these', 'DT'), ('moments', 'NNS'), ('at', 'IN'), ('the', 'DT'), ('Institute', 'NNP')]\n"
     ]
    }
   ],
   "source": [
    "text = 'Ending this obvious discussion would be necessary at these moments at the Institute'\n",
    "pre = TextBlob(text)\n",
    "\n",
    "print (pre.tags)"
   ]
  },
  {
   "cell_type": "markdown",
   "metadata": {},
   "source": [
    "# Shallow Parsing"
   ]
  },
  {
   "cell_type": "code",
   "execution_count": 94,
   "metadata": {},
   "outputs": [
    {
     "name": "stdout",
     "output_type": "stream",
     "text": [
      "(S\n",
      "  Ending/VBG\n",
      "  (NP this/DT obvious/JJ discussion/NN)\n",
      "  would/MD\n",
      "  be/VB\n",
      "  necessary/JJ\n",
      "  at/IN\n",
      "  these/DT\n",
      "  moments/NNS\n",
      "  at/IN\n",
      "  the/DT\n",
      "  Institute/NNP)\n"
     ]
    }
   ],
   "source": [
    "regx = \"NP: {<DT>?<JJ>*<NN>}\"\n",
    "regxP = nltk.RegexpParser(regx)\n",
    "pre = regxP.parse(pre.tags)\n",
    "print(pre)"
   ]
  },
  {
   "cell_type": "code",
   "execution_count": 97,
   "metadata": {},
   "outputs": [
    {
     "data": {
      "text/plain": [
       "<bound method Tree.draw of Tree('S', [('Ending', 'VBG'), Tree('NP', [('this', 'DT'), ('obvious', 'JJ'), ('discussion', 'NN')]), ('would', 'MD'), ('be', 'VB'), ('necessary', 'JJ'), ('at', 'IN'), ('these', 'DT'), ('moments', 'NNS'), ('at', 'IN'), ('the', 'DT'), ('Institute', 'NNP')])>"
      ]
     },
     "execution_count": 97,
     "metadata": {},
     "output_type": "execute_result"
    }
   ],
   "source": [
    "pre.draw"
   ]
  },
  {
   "cell_type": "code",
   "execution_count": 98,
   "metadata": {},
   "outputs": [],
   "source": [
    "pre.draw()"
   ]
  }
 ],
 "metadata": {
  "kernelspec": {
   "display_name": "Python 3",
   "language": "python",
   "name": "python3"
  },
  "language_info": {
   "codemirror_mode": {
    "name": "ipython",
    "version": 3
   },
   "file_extension": ".py",
   "mimetype": "text/x-python",
   "name": "python",
   "nbconvert_exporter": "python",
   "pygments_lexer": "ipython3",
   "version": "3.7.3"
  }
 },
 "nbformat": 4,
 "nbformat_minor": 2
}
